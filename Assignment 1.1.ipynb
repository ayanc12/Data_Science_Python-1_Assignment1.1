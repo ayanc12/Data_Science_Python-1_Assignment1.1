{
 "cells": [
  {
   "cell_type": "code",
   "execution_count": 2,
   "metadata": {},
   "outputs": [
    {
     "name": "stdout",
     "output_type": "stream",
     "text": [
      "Please enter your Name: AYAN\n",
      "Please enter your Address: 18. A.p.c. Avenue kolkata 30\n",
      "Please enter your City: Kolkata\n",
      "*** Your details are as follows ***\n",
      "    Your Name is  AYAN\n",
      "    Your Address is  18. A.p.c. Avenue kolkata 30\n",
      "    Your City is  Kolkata\n"
     ]
    }
   ],
   "source": [
    "\n",
    "# Taking inputs from user\n",
    "Name = input(\"Please enter your Name: \")\n",
    "Address = input(\"Please enter your Address: \")\n",
    "City = input(\"Please enter your City: \")\n",
    "\n",
    "# Printing details of user\n",
    "print (\"*** Your details are as follows ***\")\n",
    "print (\"    Your Name is \",Name)\n",
    "print (\"    Your Address is \",Address)\n",
    "print (\"    Your City is \",City)\n",
    "\n"
   ]
  },
  {
   "cell_type": "code",
   "execution_count": null,
   "metadata": {},
   "outputs": [],
   "source": []
  }
 ],
 "metadata": {
  "kernelspec": {
   "display_name": "Python 3",
   "language": "python",
   "name": "python3"
  },
  "language_info": {
   "codemirror_mode": {
    "name": "ipython",
    "version": 3
   },
   "file_extension": ".py",
   "mimetype": "text/x-python",
   "name": "python",
   "nbconvert_exporter": "python",
   "pygments_lexer": "ipython3",
   "version": "3.6.4"
  }
 },
 "nbformat": 4,
 "nbformat_minor": 2
}
